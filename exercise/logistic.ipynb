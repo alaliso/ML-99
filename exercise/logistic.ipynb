{
  "nbformat": 4,
  "nbformat_minor": 0,
  "metadata": {
    "colab": {
      "name": "Copy of Copy of iris2.ipynb",
      "provenance": [],
      "collapsed_sections": []
    },
    "kernelspec": {
      "name": "python3",
      "display_name": "Python 3"
    }
  },
  "cells": [
    {
      "cell_type": "code",
      "metadata": {
        "id": "W7W-Nsmo6YKQ"
      },
      "source": [
        "from sklearn.datasets import load_iris\r\n",
        "from sklearn.neighbors import KNeighborsClassifier\r\n",
        "from sklearn.linear_model import LogisticRegression\r\n",
        "from sklearn import metrics\r\n",
        "from sklearn.model_selection import train_test_split\r\n",
        "import matplotlib.pyplot as plt\r\n",
        "%matplotlib inline\r\n",
        "from sklearn.model_selection import cross_val_score\r\n",
        "import numpy as np\r\n"
      ],
      "execution_count": null,
      "outputs": []
    },
    {
      "cell_type": "code",
      "metadata": {
        "id": "GKgTgvwU6gYi",
        "colab": {
          "base_uri": "https://localhost:8080/"
        },
        "outputId": "81faac55-111a-47db-cb70-257cfb4156fb"
      },
      "source": [
        "iris=load_iris()\r\n",
        "\r\n",
        "X = iris.data\r\n",
        "Y = iris.target\r\n",
        "\r\n",
        "print(X.shape)\r\n",
        "print(Y.shape)"
      ],
      "execution_count": null,
      "outputs": [
        {
          "output_type": "stream",
          "text": [
            "(150, 4)\n",
            "(150,)\n"
          ],
          "name": "stdout"
        }
      ]
    },
    {
      "cell_type": "code",
      "metadata": {
        "id": "2P_uF6076mDm",
        "colab": {
          "base_uri": "https://localhost:8080/"
        },
        "outputId": "20ff55b9-54de-4087-a221-57e67c166098"
      },
      "source": [
        "X_train,X_test,Y_train,Y_test=train_test_split(X,Y,test_size=0.40,random_state=4)\r\n",
        "print(X_train.shape)\r\n",
        "print(X_test.shape)\r\n",
        "print(Y_train.shape)\r\n",
        "print(Y_test.shape)"
      ],
      "execution_count": null,
      "outputs": [
        {
          "output_type": "stream",
          "text": [
            "(90, 4)\n",
            "(60, 4)\n",
            "(90,)\n",
            "(60,)\n"
          ],
          "name": "stdout"
        }
      ]
    },
    {
      "cell_type": "code",
      "metadata": {
        "id": "GYMcQ6cA6x60",
        "colab": {
          "base_uri": "https://localhost:8080/"
        },
        "outputId": "9cee4a6e-9bbb-4c2a-eb61-94b10acab5d6"
      },
      "source": [
        "# Logistic Regression\r\n",
        "logreg=LogisticRegression()\r\n",
        "\r\n",
        "#train\r\n",
        "logreg.fit(X_train,Y_train)"
      ],
      "execution_count": null,
      "outputs": [
        {
          "output_type": "execute_result",
          "data": {
            "text/plain": [
              "LogisticRegression(C=1.0, class_weight=None, dual=False, fit_intercept=True,\n",
              "                   intercept_scaling=1, l1_ratio=None, max_iter=100,\n",
              "                   multi_class='auto', n_jobs=None, penalty='l2',\n",
              "                   random_state=None, solver='lbfgs', tol=0.0001, verbose=0,\n",
              "                   warm_start=False)"
            ]
          },
          "metadata": {
            "tags": []
          },
          "execution_count": 4
        }
      ]
    },
    {
      "cell_type": "code",
      "metadata": {
        "id": "hJ-MGt0863Yt",
        "colab": {
          "base_uri": "https://localhost:8080/"
        },
        "outputId": "b8bfa5da-8cb9-419b-ead4-fcb3d73c84c1"
      },
      "source": [
        "LogisticRegression(C=1.0, class_weight=None, dual=False, fit_intercept=True,\r\n",
        "          intercept_scaling=1, max_iter=100, multi_class='ovr', n_jobs=1,\r\n",
        "          penalty='l2', random_state=None, solver='liblinear', tol=0.0001,\r\n",
        "          verbose=0, warm_start=False)"
      ],
      "execution_count": null,
      "outputs": [
        {
          "output_type": "execute_result",
          "data": {
            "text/plain": [
              "LogisticRegression(C=1.0, class_weight=None, dual=False, fit_intercept=True,\n",
              "                   intercept_scaling=1, l1_ratio=None, max_iter=100,\n",
              "                   multi_class='ovr', n_jobs=1, penalty='l2', random_state=None,\n",
              "                   solver='liblinear', tol=0.0001, verbose=0, warm_start=False)"
            ]
          },
          "metadata": {
            "tags": []
          },
          "execution_count": 5
        }
      ]
    },
    {
      "cell_type": "code",
      "metadata": {
        "id": "UWSnqcUH69Gc",
        "colab": {
          "base_uri": "https://localhost:8080/"
        },
        "outputId": "00987031-d14f-43ce-d97e-047f7c5c2d87"
      },
      "source": [
        "#test\r\n",
        "Y_hat=logreg.predict(X_test)\r\n",
        "metrics.accuracy_score(Y_test,Y_hat)"
      ],
      "execution_count": null,
      "outputs": [
        {
          "output_type": "execute_result",
          "data": {
            "text/plain": [
              "0.9666666666666667"
            ]
          },
          "metadata": {
            "tags": []
          },
          "execution_count": 6
        }
      ]
    },
    {
      "cell_type": "code",
      "metadata": {
        "id": "VhPWsBQK7Ehl",
        "colab": {
          "base_uri": "https://localhost:8080/"
        },
        "outputId": "35da8cdf-0185-46e0-e720-74e5a3b8701f"
      },
      "source": [
        "# KNN\r\n",
        "\r\n",
        "Scores=[]\r\n",
        "for i in range(1,26):\r\n",
        "    knn=KNeighborsClassifier(n_neighbors=i)\r\n",
        "    #train\r\n",
        "    knn.fit(X_train,Y_train)\r\n",
        "    #test\r\n",
        "    Y_hat=knn.predict(X_test)\r\n",
        "    Scores.append(metrics.accuracy_score(Y_test,Y_hat))\r\n",
        "print(\"Max Score is =>\",np.max(Scores), \"\\nWith K value =>\",np.argmax(Scores))"
      ],
      "execution_count": null,
      "outputs": [
        {
          "output_type": "stream",
          "text": [
            "Max Score is => 0.9833333333333333 \n",
            "With K value => 5\n"
          ],
          "name": "stdout"
        }
      ]
    },
    {
      "cell_type": "code",
      "metadata": {
        "colab": {
          "base_uri": "https://localhost:8080/",
          "height": 300
        },
        "id": "zaGFdXVd7Kvn",
        "outputId": "e3c43b95-27f9-4cb8-e0c3-f57f1472b4bc"
      },
      "source": [
        "plt.plot(range(1,26),Scores)\r\n",
        "plt.xlabel(\"Values of K\")\r\n",
        "plt.ylabel(\"Output scores\")\r\n"
      ],
      "execution_count": null,
      "outputs": [
        {
          "output_type": "execute_result",
          "data": {
            "text/plain": [
              "Text(0, 0.5, 'Output scores')"
            ]
          },
          "metadata": {
            "tags": []
          },
          "execution_count": 8
        },
        {
          "output_type": "display_data",
          "data": {
            "image/png": "[encoded data removed]",
            "text/plain": [
              "<Figure size 432x288 with 1 Axes>"
            ]
          },
          "metadata": {
            "tags": [],
            "needs_background": "light"
          }
        }
      ]
    },
    {
      "cell_type": "code",
      "metadata": {
        "id": "tU3A-tMO7O17",
        "colab": {
          "base_uri": "https://localhost:8080/"
        },
        "outputId": "191e6d02-8f79-41bc-e168-489c2231a798"
      },
      "source": [
        "#knn\r\n",
        "scores=[]\r\n",
        "for i in range(1,26):\r\n",
        "    knn=KNeighborsClassifier(n_neighbors=i)\r\n",
        "    temp_score=cross_val_score(knn,X,Y,cv=10,scoring='accuracy')\r\n",
        "    scores.append(temp_score.mean())\r\n",
        "\r\n",
        "print(\"Max Score is =>\",np.max(scores), \"\\nWith K value =>\",np.argmax(scores))\r\n",
        "print(\"Min Score is =>\",np.min(scores), \"\\nWith K value =>\",np.argmin(scores))\r\n",
        "print(\"Mean of all scores is =>\", np.mean(scores))"
      ],
      "execution_count": null,
      "outputs": [
        {
          "output_type": "stream",
          "text": [
            "Max Score is => 0.9800000000000001 \n",
            "With K value => 12\n",
            "Min Score is => 0.9533333333333334 \n",
            "With K value => 1\n",
            "Mean of all scores is => 0.9693333333333333\n"
          ],
          "name": "stdout"
        }
      ]
    },
    {
      "cell_type": "code",
      "metadata": {
        "id": "NXpSl0GG7ntY",
        "colab": {
          "base_uri": "https://localhost:8080/",
          "height": 296
        },
        "outputId": "7cea19f8-fd20-4487-ffb4-51537e5ba723"
      },
      "source": [
        "plt.plot(range(1,26),scores)\r\n",
        "plt.xlabel(\"k value\")\r\n",
        "plt.ylabel(\"croos validated accuracy\")"
      ],
      "execution_count": null,
      "outputs": [
        {
          "output_type": "execute_result",
          "data": {
            "text/plain": [
              "Text(0, 0.5, 'croos validated accuracy')"
            ]
          },
          "metadata": {
            "tags": []
          },
          "execution_count": 10
        },
        {
          "output_type": "display_data",
          "data": {
            "image/png": "[encoded data removed]",
            "text/plain": [
              "<Figure size 432x288 with 1 Axes>"
            ]
          },
          "metadata": {
            "tags": [],
            "needs_background": "light"
          }
        }
      ]
    },
    {
      "cell_type": "code",
      "metadata": {
        "id": "PnYIeBxM7s4Z",
        "colab": {
          "base_uri": "https://localhost:8080/"
        },
        "outputId": "78c6981e-030c-49e0-ad47-3db1ca1c2d3b"
      },
      "source": [
        "knn=KNeighborsClassifier(n_neighbors=12) #12 because in last step of knn with cross validation, max score we got was at k=12 \r\n",
        "print( cross_val_score(knn,X,Y,cv=10,scoring='accuracy').mean() )\r\n",
        "\r\n",
        "lorg=LogisticRegression()\r\n",
        "print( cross_val_score(lorg,X,Y,cv=10,scoring='accuracy').mean() )\r\n"
      ],
      "execution_count": null,
      "outputs": [
        {
          "output_type": "stream",
          "text": [
            "0.9733333333333334\n"
          ],
          "name": "stdout"
        },
        {
          "output_type": "stream",
          "text": [
            "/usr/local/lib/python3.6/dist-packages/sklearn/linear_model/_logistic.py:940: ConvergenceWarning: lbfgs failed to converge (status=1):\n",
            "STOP: TOTAL NO. of ITERATIONS REACHED LIMIT.\n",
            "\n",
            "Increase the number of iterations (max_iter) or scale the data as shown in:\n",
            "    https://scikit-learn.org/stable/modules/preprocessing.html\n",
            "Please also refer to the documentation for alternative solver options:\n",
            "    https://scikit-learn.org/stable/modules/linear_model.html#logistic-regression\n",
            "  extra_warning_msg=_LOGISTIC_SOLVER_CONVERGENCE_MSG)\n",
            "/usr/local/lib/python3.6/dist-packages/sklearn/linear_model/_logistic.py:940: ConvergenceWarning: lbfgs failed to converge (status=1):\n",
            "STOP: TOTAL NO. of ITERATIONS REACHED LIMIT.\n",
            "\n",
            "Increase the number of iterations (max_iter) or scale the data as shown in:\n",
            "    https://scikit-learn.org/stable/modules/preprocessing.html\n",
            "Please also refer to the documentation for alternative solver options:\n",
            "    https://scikit-learn.org/stable/modules/linear_model.html#logistic-regression\n",
            "  extra_warning_msg=_LOGISTIC_SOLVER_CONVERGENCE_MSG)\n",
            "/usr/local/lib/python3.6/dist-packages/sklearn/linear_model/_logistic.py:940: ConvergenceWarning: lbfgs failed to converge (status=1):\n",
            "STOP: TOTAL NO. of ITERATIONS REACHED LIMIT.\n",
            "\n",
            "Increase the number of iterations (max_iter) or scale the data as shown in:\n",
            "    https://scikit-learn.org/stable/modules/preprocessing.html\n",
            "Please also refer to the documentation for alternative solver options:\n",
            "    https://scikit-learn.org/stable/modules/linear_model.html#logistic-regression\n",
            "  extra_warning_msg=_LOGISTIC_SOLVER_CONVERGENCE_MSG)\n",
            "/usr/local/lib/python3.6/dist-packages/sklearn/linear_model/_logistic.py:940: ConvergenceWarning: lbfgs failed to converge (status=1):\n",
            "STOP: TOTAL NO. of ITERATIONS REACHED LIMIT.\n",
            "\n",
            "Increase the number of iterations (max_iter) or scale the data as shown in:\n",
            "    https://scikit-learn.org/stable/modules/preprocessing.html\n",
            "Please also refer to the documentation for alternative solver options:\n",
            "    https://scikit-learn.org/stable/modules/linear_model.html#logistic-regression\n",
            "  extra_warning_msg=_LOGISTIC_SOLVER_CONVERGENCE_MSG)\n",
            "/usr/local/lib/python3.6/dist-packages/sklearn/linear_model/_logistic.py:940: ConvergenceWarning: lbfgs failed to converge (status=1):\n",
            "STOP: TOTAL NO. of ITERATIONS REACHED LIMIT.\n",
            "\n",
            "Increase the number of iterations (max_iter) or scale the data as shown in:\n",
            "    https://scikit-learn.org/stable/modules/preprocessing.html\n",
            "Please also refer to the documentation for alternative solver options:\n",
            "    https://scikit-learn.org/stable/modules/linear_model.html#logistic-regression\n",
            "  extra_warning_msg=_LOGISTIC_SOLVER_CONVERGENCE_MSG)\n",
            "/usr/local/lib/python3.6/dist-packages/sklearn/linear_model/_logistic.py:940: ConvergenceWarning: lbfgs failed to converge (status=1):\n",
            "STOP: TOTAL NO. of ITERATIONS REACHED LIMIT.\n",
            "\n",
            "Increase the number of iterations (max_iter) or scale the data as shown in:\n",
            "    https://scikit-learn.org/stable/modules/preprocessing.html\n",
            "Please also refer to the documentation for alternative solver options:\n",
            "    https://scikit-learn.org/stable/modules/linear_model.html#logistic-regression\n",
            "  extra_warning_msg=_LOGISTIC_SOLVER_CONVERGENCE_MSG)\n"
          ],
          "name": "stderr"
        },
        {
          "output_type": "stream",
          "text": [
            "0.9733333333333334\n"
          ],
          "name": "stdout"
        }
      ]
    },
    {
      "cell_type": "code",
      "metadata": {
        "id": "I8R9SV2m70xa"
      },
      "source": [
        ""
      ],
      "execution_count": null,
      "outputs": []
    }
  ]
}